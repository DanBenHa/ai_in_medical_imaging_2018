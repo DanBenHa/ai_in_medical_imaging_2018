{
 "cells": [
  {
   "cell_type": "markdown",
   "metadata": {},
   "source": [
    "**Exercise 1**\n",
    "\n",
    "Create a program that asks the user to enter their name and their age. Print out a message\n",
    "addressed to them that tells them the year that they will turn 50 years old.\n",
    "\n",
    "Hint: you could use the input and print function."
   ]
  },
  {
   "cell_type": "code",
   "execution_count": 9,
   "metadata": {},
   "outputs": [
    {
     "name": "stdout",
     "output_type": "stream",
     "text": [
      "Please enter your name Daniel\n",
      "Please enter your age 30\n",
      "Daniel, the year you turn(ed) 50 is 2038\n"
     ]
    }
   ],
   "source": [
    "name = input('Please enter your name ')\n",
    "age = input('Please enter your age ')\n",
    "diff_to_50 = 50-int(age)\n",
    "current_year = 2018\n",
    "print(name + ', the year you turn(ed) 50 is ' + str(current_year+diff_to_50))"
   ]
  },
  {
   "cell_type": "markdown",
   "metadata": {},
   "source": [
    "**Exercise 2**\n",
    "\n",
    "Ask the user for a number. Depending on whether the number is even or odd, print out an\n",
    "appropriate message to tell the user whether it is even or odd.\n",
    "\n",
    "Hint: how does an even / odd number react differently when divided by 2?"
   ]
  },
  {
   "cell_type": "code",
   "execution_count": 12,
   "metadata": {},
   "outputs": [
    {
     "name": "stdout",
     "output_type": "stream",
     "text": [
      "Please input some integer 4\n",
      "This is an even number\n"
     ]
    }
   ],
   "source": [
    "some_number = input('Please input some integer ')\n",
    "if int(some_number)%2 == 1:\n",
    "    print('This is an odd number')\n",
    "elif int(some_number)%2 == 0:\n",
    "    print('This is an even number')"
   ]
  },
  {
   "cell_type": "markdown",
   "metadata": {},
   "source": [
    "**Exercise 3**\n",
    "\n",
    "Take a list, say for example this one:\n",
    "a = [0, 2, 2, 4, 5, 8, 13, 21, 34, 39, 69]\n",
    "and write a program that prints out the all the elements of the list that are less than 9.\n",
    "\n",
    "Extras:\n",
    "\n",
    "1). Instead of printing the elements one by one, make a new list that has all the elements\n",
    "less than 5 from this list in it and print out this new list.\n",
    "\n",
    "2). Write this in one line of Python."
   ]
  },
  {
   "cell_type": "code",
   "execution_count": 22,
   "metadata": {},
   "outputs": [
    {
     "name": "stdout",
     "output_type": "stream",
     "text": [
      "0\n",
      "2\n",
      "2\n",
      "4\n",
      "5\n",
      "8\n",
      "[0, 2, 2, 4, 5, 8]\n"
     ]
    }
   ],
   "source": [
    "a = [0, 2, 2, 4, 5, 8, 13, 21, 34, 39, 69]\n",
    "def print_numbers_less9(list):\n",
    "    for number in a:\n",
    "        if number < 9:\n",
    "            print(number)\n",
    "print_numbers_less9(a)\n",
    "\n",
    "# extra\n",
    "print([number for number in a if number < 9])"
   ]
  },
  {
   "cell_type": "markdown",
   "metadata": {},
   "source": [
    "**Exercise 4**\n",
    "\n",
    "Create a program that asks the user for a number and then prints out a list of all the divisors\n",
    "of that number. (A divisor is a number that divides evenly into another number. For\n",
    "example, 13 is a divisor of 26 because 26 / 13 has no remainder.)"
   ]
  },
  {
   "cell_type": "code",
   "execution_count": 28,
   "metadata": {},
   "outputs": [
    {
     "name": "stdout",
     "output_type": "stream",
     "text": [
      "Enter an integer: 9\n",
      "Dividers of 9\n",
      "[1, 3]\n"
     ]
    }
   ],
   "source": [
    "number = int(input('Enter an integer: '))\n",
    "dividers = []\n",
    "for i in range(1,number):\n",
    "    if number%i==0:\n",
    "        dividers.append(i)\n",
    "print('Dividers of ' + str(number))\n",
    "print(dividers)"
   ]
  },
  {
   "cell_type": "markdown",
   "metadata": {},
   "source": [
    "**Exercise 5**\n",
    "\n",
    "Take two lists, say for example these two:\n",
    "a = [1, 1, 2, 4, 6, 8, 13, 23, 34, 45, 78]\n",
    "b = [0, 1, 2, 3, 4, 5, 6, 7, 8, 9, 10, 11, 12]\n",
    "and write a program that returns a list that contains only the elements that are common\n",
    "between the lists (without duplicates). Make sure your program works on two lists of\n",
    "different sizes.\n",
    "\n",
    "Extras:\n",
    "1). Randomly generate two lists to test this."
   ]
  },
  {
   "cell_type": "code",
   "execution_count": 85,
   "metadata": {},
   "outputs": [
    {
     "name": "stdout",
     "output_type": "stream",
     "text": [
      "[1, 2, 4, 6, 8]\n"
     ]
    }
   ],
   "source": [
    "a = [1, 1, 2, 4, 6, 8, 13, 23, 34, 45, 78]\n",
    "b = [0, 1, 2, 3, 4, 5, 6, 7, 8, 9, 10, 11, 12]\n",
    "\n",
    "def union(a,b):\n",
    "    # cast to set to get unique values\n",
    "    a_in_b = list(set([number_a for number_a in a if number_a in b]))\n",
    "    return a_in_b\n",
    "\n",
    "print(union(a,b))"
   ]
  },
  {
   "cell_type": "markdown",
   "metadata": {},
   "source": [
    "**Exercise 6**\n",
    "\n",
    "Ask the user for a string and print out whether this string is a palindrome or not. (A\n",
    "palindrome is a string that reads the same forwards and backwards.)\n",
    "\n",
    "Hint: firstly you could define a function to reverse a string."
   ]
  },
  {
   "cell_type": "code",
   "execution_count": 48,
   "metadata": {},
   "outputs": [
    {
     "name": "stdout",
     "output_type": "stream",
     "text": [
      "Enter a word: anna\n",
      "anna is a palindrome.\n"
     ]
    }
   ],
   "source": [
    "string = input('Enter a word: ')\n",
    "reversed_string = string[::-1]\n",
    "if reversed_string == string:\n",
    "    print(string + ' is a palindrome.')\n",
    "else:\n",
    "    print(string + 'is not a palindrom.')"
   ]
  },
  {
   "cell_type": "markdown",
   "metadata": {},
   "source": [
    "**Exercise 7**\n",
    "\n",
    "Develop a two-player Rock-Paper-Scissors game.\n",
    "Remember the rules:\n",
    "Rock beats scissors\n",
    "Scissors beats paper\n",
    "Paper beats rock\n",
    "\n",
    "Hint: Ask for the input of the two players (using input), compare them, print out a message\n",
    "of congratulations to the winner, and ask if the players want to start a new game."
   ]
  },
  {
   "cell_type": "code",
   "execution_count": 52,
   "metadata": {},
   "outputs": [
    {
     "name": "stdout",
     "output_type": "stream",
     "text": [
      "Player 1, choose: rock, paper, scissors: rock\n",
      "Player 2, choose: rock, paper, scissors: paper\n",
      "Player 2 wins\n",
      "Do you want to play another round? (y/n)n\n"
     ]
    }
   ],
   "source": [
    "def rps():\n",
    "    player_1 = input('Player 1, choose: rock, paper, scissors: ')\n",
    "    player_2 = input('Player 2, choose: rock, paper, scissors: ')\n",
    "    \n",
    "    if player_1 == \"rock\":\n",
    "        if player_2 == \"rock\":\n",
    "            print('It''s a draw')\n",
    "        elif player_2 == \"paper\":\n",
    "            print('Player 2 wins')\n",
    "        elif player_2 == \"scissors\":\n",
    "            print('Player 1 wins')\n",
    "    elif player_1 == \"paper\":\n",
    "        if player_2 == \"rock\":\n",
    "            print('Player 1 wins')\n",
    "        elif player_2 == \"paper\":\n",
    "            print('It''s a draw')\n",
    "        elif player_2 == \"scissors\":\n",
    "            print('Player 2 wins')\n",
    "    elif player_1 == \"scissors\":\n",
    "        if player_2 == \"rock\":\n",
    "            print('Player 2 wins')\n",
    "        elif player_2 == \"paper\":\n",
    "            print('Player 1 wins')\n",
    "        elif player_2 == \"scissors\":\n",
    "            print('It''s a draw')\n",
    "    \n",
    "    new_round = input('Do you want to play another round? (y/n)')\n",
    "    if new_round == \"y\":\n",
    "        rps()\n",
    "\n",
    "rps()"
   ]
  },
  {
   "cell_type": "markdown",
   "metadata": {},
   "source": [
    "**Exercise 8**\n",
    "\n",
    "Generate a random number between 1 and 9 (including 1 and 9). Ask the user to guess the\n",
    "number, then tell them whether they guessed too low, too high, or exactly right."
   ]
  },
  {
   "cell_type": "code",
   "execution_count": 56,
   "metadata": {},
   "outputs": [
    {
     "name": "stdout",
     "output_type": "stream",
     "text": [
      "Guess a number between 0 and 9: 5\n",
      "You guessed too low. The number was 8\n"
     ]
    }
   ],
   "source": [
    "def guess_random_09():\n",
    "    from random import randint\n",
    "\n",
    "    random_int = randint(0,9)\n",
    "    guess = int(input('Guess a number between 0 and 9: '))\n",
    "\n",
    "    if guess == random_int:\n",
    "        print('That''s correct!')\n",
    "    elif guess < random_int:\n",
    "        print('You guessed too low. The number was ' + str(random_int))\n",
    "    elif guess > random_int:\n",
    "        print('You guessed too high. The number was ' + str(random_int))\n",
    "\n",
    "guess_random_09()"
   ]
  },
  {
   "cell_type": "markdown",
   "metadata": {},
   "source": [
    "**Exercise 9**\n",
    "\n",
    "Write a program (using functions!) that asks the user for a long string containing multiple\n",
    "words. Print back to the user the same string, except with the words in backwards order. For\n",
    "example, say I type the string:\n",
    "\n",
    "My name is Bran\n",
    "\n",
    "Then I would see the string:\n",
    "\n",
    "Bran is name My"
   ]
  },
  {
   "cell_type": "code",
   "execution_count": 70,
   "metadata": {},
   "outputs": [
    {
     "name": "stdout",
     "output_type": "stream",
     "text": [
      "Enter a sentence: This is exercise 9\n",
      "9 exercise is This\n"
     ]
    }
   ],
   "source": [
    "def reverse_sentence():\n",
    "    sentence = input('Enter a sentence: ')\n",
    "    print(' '.join(list(reversed(sentence.split()))))\n",
    "\n",
    "reverse_sentence()"
   ]
  },
  {
   "cell_type": "markdown",
   "metadata": {},
   "source": [
    "**Exercise 10**\n",
    "\n",
    "Write a password generator in Python. Be creative with how you generate passwords -\n",
    "strong passwords have a mix of lowercase letters, uppercase letters, numbers, and symbols.\n",
    "The passwords should be random, generating a new password every time the user asks for a\n",
    "new password. Include your code in a main method.\n",
    "\n",
    "Extra:\n",
    "1). Ask the user how strong they want their password to be. For weak passwords, pick a\n",
    "word or two from a list."
   ]
  },
  {
   "cell_type": "code",
   "execution_count": 80,
   "metadata": {},
   "outputs": [
    {
     "data": {
      "text/plain": [
       "'3R9WF=VmzumW(M}C{`k@'"
      ]
     },
     "execution_count": 80,
     "metadata": {},
     "output_type": "execute_result"
    }
   ],
   "source": [
    "def password_generator(n=10):\n",
    "    import random\n",
    "    import string\n",
    "    \n",
    "    return ''.join(random.choices(string.ascii_letters + string.digits + string.punctuation, k=n))\n",
    "\n",
    "password_generator(20)"
   ]
  },
  {
   "cell_type": "code",
   "execution_count": null,
   "metadata": {},
   "outputs": [],
   "source": []
  }
 ],
 "metadata": {
  "kernelspec": {
   "display_name": "Python 3",
   "language": "python",
   "name": "python3"
  },
  "language_info": {
   "codemirror_mode": {
    "name": "ipython",
    "version": 3
   },
   "file_extension": ".py",
   "mimetype": "text/x-python",
   "name": "python",
   "nbconvert_exporter": "python",
   "pygments_lexer": "ipython3",
   "version": "3.6.5"
  }
 },
 "nbformat": 4,
 "nbformat_minor": 2
}
